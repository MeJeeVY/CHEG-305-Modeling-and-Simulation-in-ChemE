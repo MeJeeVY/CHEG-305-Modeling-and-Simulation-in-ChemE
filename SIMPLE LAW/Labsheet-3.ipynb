{
 "cells": [
  {
   "cell_type": "markdown",
   "id": "17d2068c",
   "metadata": {},
   "source": [
    "## Introduction\n",
    "\n",
    "Understanding the behavior of reactions is crucial for designing efficient processes and optimizing industrial production. Two fundamental principles govern many aspects of chemical reactions: Dalton's Law and the Law of Mass Action."
   ]
  },
  {
   "cell_type": "markdown",
   "id": "f75cccd7",
   "metadata": {},
   "source": [
    "#### Dalton's Law of Partial Pressure\n",
    "\n",
    "Dalton's Law, formulated by John Dalton in the early 19th century, states that the total pressure exerted by a mixture of non-reacting gases is equal to the sum of the partial pressures of individual gases in the mixture. This law is fundamental in understanding the behavior of gas mixtures, as it allows us to determine the concentration of individual components in a gas mixture based on their partial pressures.\n",
    "\n",
    "$P_{total} = P_1 + P_2 + P_3 + \\ldots$\n",
    "\n",
    "where:\n",
    "- $ P_{total} $ is the total pressure of the gas mixture,\n",
    "- $ P_1, P_2, P_3, \\ldots $ are the partial pressures of the individual gases in the mixture.\n",
    "\n",
    "In terms of mole fractions, Dalton's law can be written as:\n",
    "\n",
    "$P_{total} = P \\times x_1 + P \\times x_2 + P \\times x_3 + \\ldots\n",
    "$\n",
    "\n",
    "where:\n",
    "- $ P $ is the total pressure of the gas mixture,\n",
    "- $ x_1, x_2, x_3, \\ldots $ are the mole fractions of the individual gases in the mixture.\n",
    "\n",
    "And if we want to express it in terms of concentrations, we can use the ideal gas law:\n",
    "\n",
    "$\n",
    "P_{total} = c_{total} \\times RT$\n",
    "\n",
    "where:\n",
    "- $ c_{total} $ is the total concentration of the gas mixture,\n",
    "- $ R $ is the gas constant,\n",
    "- $ T $ is the temperature.\n"
   ]
  },
  {
   "cell_type": "markdown",
   "id": "7f0f14cb",
   "metadata": {},
   "source": [
    "#### Law of Mass Action\n",
    "\n",
    "The Law of Mass Action describes the relationship between the concentrations of reactants and the rate of a chemical reaction. It states that the rate of a chemical reaction is directly proportional to the product of the concentrations of the reactants, each raised to the power of their respective stoichiometric coefficients. This law provides a quantitative framework for understanding reaction kinetics and is instrumental in formulating rate equations for various chemical processes.\n",
    "\n",
    "In a chemical reaction:\n",
    "\n",
    "$ aA + bB \\rightarrow cC + dD$\n",
    "\n",
    "Mathematically:\n",
    "\n",
    "$\\text{Rate of reaction} = k \\cdot [A]^a \\cdot [B]^b$\n",
    "\n",
    "where:\n",
    "- $[A]$ and $[B]$ are the concentrations of reactants $A$ and $B$, respectively,\n",
    "- $ k $ is the rate constant,\n",
    "- $a$ and $b$ are the stoichiometric coefficients of reactants $A$ and $B$, respectively.\n",
    "\n",
    "In this lab report, we explore the application of these fundamental principles in two scenarios: instantaneous reaction and slow reaction.\n",
    "\n",
    "#### Instantaneous reaction\n",
    "\n",
    "An instantaneous reaction is a type of chemical reaction that occurs almost instantaneously upon contact between reactants. In other words, the reaction proceeds very rapidly, often within milliseconds or even microseconds. This type of reaction typically occurs when the activation energy barrier for the reaction is low, allowing the reaction to proceed quickly once the reactants come into contact. Examples of instantaneous reactions include some combustion reactions and certain types of catalytic reactions.\n",
    "\n",
    "#### Slow reaction \n",
    "\n",
    "A slow reaction is a type of chemical reaction that occurs over an extended period of time, often requiring minutes, hours, or even days to reach completion. These reactions proceed at a relatively slow rate due to high activation energy barriers or other factors that impede the progress of the reaction. Slow reactions are characterized by a gradual change in concentration of reactants and products over time. Examples of slow reactions include many organic reactions, certain precipitation reactions, and some biological processes such as enzyme-catalyzed reactions.\n",
    "\n",
    "Through experimental data and theoretical analysis, we learn how these laws govern the behavior of chemical systems and influence reaction rates under different conditions.\n",
    "\n",
    "## Objectives\n",
    "\n",
    "- To analyze the concentration profile of a chemical species undergoing an instantaneous reaction.\n",
    "- To investigate the influence of reaction rate constants on the progress of a slow chemical reaction.\n",
    "- To demonstrate the application of fundamental laws in predicting reaction behavior and designing reaction processes."
   ]
  },
  {
   "cell_type": "markdown",
   "id": "c4f003d2",
   "metadata": {},
   "source": [
    "## Methodology\n",
    "\n",
    "1. Initialize the UnitRegistry from the pint library and import necessary modules.\n",
    "2. Calculate the concentration (c) using given values of volume (V) and mass (m).\n",
    "3. Determine the volume (V) using the given radius (r) for a spherical container.\n",
    "4. Solve a differential equation representing the change in volume over time using odeint from scipy.integrate.\n",
    "5. Plot the volume (V) as a function of time (t) to visualize its change over time.\n",
    "6. Calculate the mass fractions of components A and B using their respective molecular weights and mole fractions.\n",
    "7. Calculate the mole fraction of component A at two different points considering an instantaneous reaction.\n",
    "8. For the instantaneous reaction (a), calculate the molar flux (NA) using Dalton's law and the provided formula.\n",
    "9. For the slow reaction (b), define a function representing the equation for finding the root using fsolve.\n",
    "10. Utilize fsolve to determine the solution to the equation numerically, considering units, and print the result."
   ]
  },
  {
   "cell_type": "markdown",
   "id": "ba45b485",
   "metadata": {},
   "source": [
    "## Results and Discussion\n",
    "\n",
    "In the following section, we present the results obtained from our simulations and discuss their significance. These findings will provide insights into the behavior of the modeled systems and inform subsequent analyses."
   ]
  },
  {
   "cell_type": "markdown",
   "id": "264bd8c5",
   "metadata": {},
   "source": [
    "### Calculation of Concentration"
   ]
  },
  {
   "cell_type": "code",
   "execution_count": 50,
   "id": "627ac50b",
   "metadata": {},
   "outputs": [
    {
     "name": "stdout",
     "output_type": "stream",
     "text": [
      "Concentration : 19.48 gram / liter\n"
     ]
    }
   ],
   "source": [
    "from pint import UnitRegistry\n",
    "\n",
    "# Initialize UnitRegistry\n",
    "ur = UnitRegistry()\n",
    "\n",
    "# Given Values\n",
    "V = 3.0 * ur.liters\n",
    "m = 58.44 * ur.grams\n",
    "mw = 58.44 * ur.grams / ur.mol  # defining molecular weight\n",
    "\n",
    "# Calculating concentration\n",
    "c = m / V\n",
    "\n",
    "print(f\"Concentration : {c}\")"
   ]
  },
  {
   "cell_type": "markdown",
   "id": "be205377",
   "metadata": {},
   "source": [
    "The output presents the calculated concentration of a substance, derived from the provided volume and mass values using the formula $ c = \\frac{m}{V} $. The concentration is displayed with its corresponding units, providing a comprehensive representation of the calculated value."
   ]
  },
  {
   "cell_type": "markdown",
   "id": "3a4dc4ef",
   "metadata": {},
   "source": [
    "### Calculation of volume of sphere"
   ]
  },
  {
   "cell_type": "code",
   "execution_count": 48,
   "id": "e0dccbee",
   "metadata": {},
   "outputs": [
    {
     "name": "stdout",
     "output_type": "stream",
     "text": [
      "Volume : 4188.790204786391 centimeter ** 3\n"
     ]
    }
   ],
   "source": [
    "from pint import UnitRegistry\n",
    "import numpy as np\n",
    "\n",
    "# Given values\n",
    "r=10 * ur.cm\n",
    "\n",
    "# Volume Calculation\n",
    "V=(4/3)*np.pi*r**3\n",
    "print(f\"Volume : {V}\")"
   ]
  },
  {
   "cell_type": "markdown",
   "id": "39f16552",
   "metadata": {},
   "source": [
    "The output represents the calculated volume of a sphere based on the given radius value. Utilizing the formula for volume calculation, the result is presented as the volume in cubic centimeters."
   ]
  },
  {
   "cell_type": "markdown",
   "id": "aaab2639",
   "metadata": {},
   "source": [
    "### Volume Dynamics Simulation with Differential Equation"
   ]
  },
  {
   "cell_type": "code",
   "execution_count": 51,
   "id": "334024d1",
   "metadata": {},
   "outputs": [
    {
     "data": {
      "image/png": "[encoded data removed]",
      "text/plain": [
       "<Figure size 640x480 with 1 Axes>"
      ]
     },
     "metadata": {},
     "output_type": "display_data"
    }
   ],
   "source": [
    "import numpy as np\n",
    "import matplotlib.pyplot as plt\n",
    "from scipy.integrate import odeint\n",
    "\n",
    "# Define the function representing the differential equation\n",
    "def dV_dt(V, t, m1, m2, density):\n",
    "    return (1/density) * (m1 - m2)\n",
    "\n",
    "# Define the parameters\n",
    "m1 = 4  # kg/s\n",
    "m2 = 2  # kg/s\n",
    "density = 1000  # kg/m^3\n",
    "\n",
    "# Define the initial condition\n",
    "V_initial = 1  # m^3\n",
    "\n",
    "# Time points for integration\n",
    "t = np.linspace(0, 1000, 1000)  # integrate till 1000s\n",
    "\n",
    "# Solve the differential equation\n",
    "V = odeint(dV_dt, V_initial, t, args=(m1, m2, density))\n",
    "\n",
    "# Plot the result\n",
    "plt.plot(t, V)\n",
    "plt.xlabel('Time (s)')\n",
    "plt.ylabel('Volume (m^3)')\n",
    "plt.title('Volume vs Time')\n",
    "plt.grid(True)\n",
    "plt.show()\n"
   ]
  },
  {
   "cell_type": "markdown",
   "id": "2f3263ba",
   "metadata": {},
   "source": [
    "The output illustrates the dynamic change in volume over time as governed by the provided differential equation and parameters. The plot demonstrates how the volume evolves from an initial value of 1 cubic meter under the influence of the specified inflow and outflow rates (m1 and m2) and the density of the system. The volume gradually increases or decreases depending on the balance between the inflow and outflow rates, showcasing the system's response to the given parameters over the specified time interval. The visualization offers valuable insights into the behavior of the system and its volume dynamics over time."
   ]
  },
  {
   "cell_type": "markdown",
   "id": "6abf25da",
   "metadata": {},
   "source": [
    "### Mass Fraction Calculation of Components A and B"
   ]
  },
  {
   "cell_type": "code",
   "execution_count": 5,
   "id": "6e6f2c5a",
   "metadata": {},
   "outputs": [
    {
     "name": "stdout",
     "output_type": "stream",
     "text": [
      "Mass fraction of component A: 0.36108542899408286\n",
      "Mass fraction of component B: 0.6389145710059172\n"
     ]
    }
   ],
   "source": [
    "# Given values\n",
    "mwA = 78.11  \n",
    "mwB = 92.14\n",
    "xa = 0.4\n",
    "xb=0.6\n",
    "\n",
    "# Calculating the mass fraction\n",
    "massfractionA = (xa * mwA) / ((xa * mwA) + (xb * mwB))\n",
    "massfractionB = (xb * mwB) / ((xa * mwA) + (xb * mwB))\n",
    "\n",
    "# Displaying results\n",
    "print(\"Mass fraction of component A:\", massfractionA)\n",
    "print(\"Mass fraction of component B:\", massfractionB)"
   ]
  },
  {
   "cell_type": "markdown",
   "id": "e7f08e4c",
   "metadata": {},
   "source": [
    "The output presents the calculated mass fractions of components A and B in a mixture. These fractions indicate the proportion of each component in the mixture based on their respective molecular weights and mole fractions. This information is crucial for understanding the composition of the mixture and its properties. The calculated mass fractions provide valuable insights into the relative abundance of components A and B, aiding in various analytical and engineering applications."
   ]
  },
  {
   "cell_type": "markdown",
   "id": "34c953d5",
   "metadata": {},
   "source": [
    "### Mole Fraction Calculation for Component A"
   ]
  },
  {
   "cell_type": "code",
   "execution_count": 57,
   "id": "8b4bc479",
   "metadata": {},
   "outputs": [
    {
     "name": "stdout",
     "output_type": "stream",
     "text": [
      "Concentration of A at point 1 : 1.0\n",
      "Concentration of A at point 2 : 0.0\n"
     ]
    }
   ],
   "source": [
    "import numpy as np\n",
    "\n",
    "# Given data\n",
    "P = 101.32 * 1000  # Pa\n",
    "T = 300  # K\n",
    "Dab = 0.15e-4  # m^2/s\n",
    "d = 2e-3  # m\n",
    "P_A1 = 101.32  # kPa\n",
    "R= 8.314\n",
    "\n",
    "# Convert partial pressure of A at point 1 to Pa\n",
    "P_A1 = P_A1 * 1000  # convert to Pa\n",
    "\n",
    "# Calculate mole fraction of A at point 1\n",
    "x_A1 = P_A1 / P\n",
    "print(f\"Concentration of A at point 1 : {x_A1}\")\n",
    "\n",
    "# Calculate mole fraction of A at point 2 for instantaneous rate of reaction\n",
    "x_A2 = x_A1 * (1 - (2e-3 / d))  # distance converted to meters\n",
    "print(f\"Concentration of A at point 2 : {x_A2}\")\n",
    "c=P/(R*T)\n"
   ]
  },
  {
   "cell_type": "markdown",
   "id": "0aea2763",
   "metadata": {},
   "source": [
    "The output displays the calculated mole fractions of component A at two different points: point 1 and point 2. At point 1, the mole fraction of A is determined based on the given partial pressure, while at point 2, it is calculated considering an instantaneous reaction occurring at a specified distance. These mole fractions provide insights into the distribution of component A in the system under different conditions, aiding in the analysis of reaction kinetics and transport phenomena."
   ]
  },
  {
   "cell_type": "markdown",
   "id": "91835288",
   "metadata": {},
   "source": [
    "### Diffusion and Chemical Reaction at a Boundary\n",
    "\n",
    "Pure gas A diffuses from point 1 at a partial pressure of 101.32 kPa to a point 2 a distance 2 mm away. At point 2, it undergoes a chemical reaction at the catalyst surface where $ A \\rightarrow 2B $. Component B diffuses back at steady state. The total pressure is $ P = 101.32 $ kPa. The temperature is 300 K and $ D_{ab} = 0.15 \\times 10^{-4} $ $m^2$/s.\n",
    "\n",
    "a. For instantaneous rate of reaction, calculate $ x_{a2} $ and $ N_a $.\n",
    "\n",
    "b. For a slow reaction where $ k' = 5.63 \\times 10^{-3} $ m/s, calculate $ x_{a2} $ and $ N_a $.\n",
    "\n",
    "$$\n",
    "\\begin{align*}\n",
    "A \\rightarrow 2B \\\\\n",
    "N_a &= -c \\cdot D_{\\text{ab}} \\cdot \\frac{d x_a}{dz} + x_a \\cdot (N_a + N_b) \\\\\n",
    "N_b &= -2N_a \\\\\n",
    "\\end{align*}\n",
    "$$\n",
    "Rearranging and integrating with constant c $(P=\\text{constant})$ we obtain the following:\n"
   ]
  },
  {
   "cell_type": "markdown",
   "id": "99ec86d2",
   "metadata": {},
   "source": [
    "a. Solution\n",
    "    for Instantaneous surface reaction\n",
    "$$\n",
    "\\begin{align*}\n",
    "\\int_{z_1=0}^{z_2=\\delta} N_a \\, dz &= -c \\cdot D_{\\text{ab}} \\int_{x_{a1}}^{x_{a2}} \\frac{d x_a}{1 + x_a} \\\\\n",
    "N_a &= \\frac{c \\cdot D_{\\text{ab}}}{\\delta} \\ln\\left(\\frac{1+x_{a1}}{1+x_{a2}}\\right)\n",
    "\\end{align*}\n",
    "$$"
   ]
  },
  {
   "cell_type": "code",
   "execution_count": 8,
   "id": "ae0b19c2",
   "metadata": {},
   "outputs": [
    {
     "name": "stdout",
     "output_type": "stream",
     "text": [
      "40.62224360516398 mole / meter ** 3\n",
      "0.21117895217204008 mole / meter ** 2 / second\n"
     ]
    }
   ],
   "source": [
    "import numpy as np\n",
    "import math\n",
    "from scipy.integrate import odeint\n",
    "from scipy.optimize import fsolve\n",
    "import matplotlib.pyplot as plt\n",
    "from pint import UnitRegistry\n",
    "ur=UnitRegistry()\n",
    "\n",
    "#a. instantaneous reaction \n",
    "xa1=1 #Dalton's law (pi=x1*P) also because it is pure A \n",
    "xa2=0 # because at point 2, the gas A is reacted instantaneously with the help of catalyst\n",
    "delta=2.00 *ur.mm\n",
    "del1=delta.to(ur.m)\n",
    "Dab=0.15*10**(-4)*(ur.m**2/ur.s)\n",
    "P=101.32*10**3*ur.pascal\n",
    "T=300*ur.degK\n",
    "R=8.314*(ur.m**3*ur.pascal)/(ur.mol*ur.degK)\n",
    "c=P/(R*T)\n",
    "print(c)\n",
    "i=math.log((1+xa1)/(1+xa2))\n",
    "Na=((c*Dab)/del1)*i\n",
    "print (Na)"
   ]
  },
  {
   "cell_type": "markdown",
   "id": "06443d96",
   "metadata": {},
   "source": [
    "The output of part a reveals the calculated molar flux $N_a$ of component A in the instantaneous surface reaction scenario. This flux quantifies the rate of mass transfer of component A across the boundary due to diffusion and chemical reaction. The calculated value of $N_a$ provides crucial information about the dynamics of the reaction process and the transport of species at the boundary. Additionally, it helps in understanding the influence of reaction kinetics and diffusion coefficients on the overall mass transfer behavior in the system."
   ]
  },
  {
   "cell_type": "markdown",
   "id": "46f33810",
   "metadata": {},
   "source": [
    "b. Solution for Slow surface reaction\n",
    "    $$N_a = \\frac{{c \\cdot D_{\\text{ab}}}}{{\\delta}} \\cdot \\ln\\left(\\frac{{1 + x_{a1}}}{{1 + \\frac{{N_a}}{{k1 \\cdot c}}}}\\right)$$"
   ]
  },
  {
   "cell_type": "code",
   "execution_count": 42,
   "id": "0ec6adbc",
   "metadata": {},
   "outputs": [
    {
     "name": "stdout",
     "output_type": "stream",
     "text": [
      "0.10034631114033263 mole / meter ** 2 / second\n"
     ]
    }
   ],
   "source": [
    "import numpy as np\n",
    "from scipy.optimize import fsolve\n",
    "from pint import UnitRegistry\n",
    "\n",
    "ur = UnitRegistry()\n",
    "\n",
    "# b. Slow reaction\n",
    "# Given data with units\n",
    "xa1 = 1  # Dalton's law (pi=x1*P) also because it is pure A\n",
    "delta = 2.00 * ur.mm\n",
    "del1 = delta.to(ur.meter)  # Convert delta to meters\n",
    "Dab = 0.15e-4 * ur.meter ** 2 / ur.second\n",
    "P = 101.32e3 * ur.pascal\n",
    "T = 300 * ur.kelvin\n",
    "R = 8.314 * ur.meter ** 3 * ur.pascal / ur.mol / ur.kelvin\n",
    "c = P / (R * T)\n",
    "k1 = 5.63e-3 * (ur.meter / ur.second)\n",
    "\n",
    "# Define the function\n",
    "def equation(x):\n",
    "    return x - ((c * Dab) / del1) * np.log((1 + xa1) / (1 + x / (k1 * c)))\n",
    "\n",
    "# Without unit\n",
    "def equation_numeric(x_numeric):\n",
    "    x = x_numeric * ur.mole / ur.meter ** 2 / ur.second  # Add units\n",
    "    result = equation(x).to_base_units().magnitude  # Convert to base units (SI) and extract numeric value\n",
    "    return result\n",
    "\n",
    "# fsolve to find the root\n",
    "solution_numeric = fsolve(equation_numeric,0)[0]# fsolve returns a list, we extract the first element\n",
    "solution = solution_numeric * ur.mole / ur.meter ** 2 / ur.second  # Convert to original units\n",
    "print(solution)\n"
   ]
  },
  {
   "cell_type": "markdown",
   "id": "1b4bab84",
   "metadata": {},
   "source": [
    "The output of part b provides the solution for the molar flux $N_a$ of component A in the scenario of a slow reaction at the boundary. This flux signifies the rate of mass transfer of component A under conditions where the reaction kinetics are slower compared to the instantaneous reaction case. The calculated value of $N_a$ offers insights into the mass transport behavior and the influence of reaction kinetics on the overall mass transfer rate. Additionally, it helps in understanding how the reaction rate constant \n",
    "$k1$ affects the flux of component A across the boundary."
   ]
  },
  {
   "cell_type": "markdown",
   "id": "82a3aba2",
   "metadata": {},
   "source": [
    "## Conclusion\n",
    "\n",
    "\n",
    "In conclusion, the experiments conducted fundamental principles governing chemical reactions, including Dalton's Law and the Law of Mass Action, which were essential for understanding reaction kinetics and mass transfer phenomena. Through careful analysis and calculations, we explored scenarios of instantaneous and slow reactions, providing valuable insights into the dynamics of chemical processes at boundaries and their implications for practical applications. These findings underscore the importance of considering reaction kinetics and diffusion dynamics in designing efficient processes and optimizing industrial production."
   ]
  },
  {
   "cell_type": "code",
   "execution_count": null,
   "id": "97facaf5",
   "metadata": {},
   "outputs": [],
   "source": []
  }
 ],
 "metadata": {
  "kernelspec": {
   "display_name": "Python 3 (ipykernel)",
   "language": "python",
   "name": "python3"
  },
  "language_info": {
   "codemirror_mode": {
    "name": "ipython",
    "version": 3
   },
   "file_extension": ".py",
   "mimetype": "text/x-python",
   "name": "python",
   "nbconvert_exporter": "python",
   "pygments_lexer": "ipython3",
   "version": "3.11.8"
  }
 },
 "nbformat": 4,
 "nbformat_minor": 5
}
